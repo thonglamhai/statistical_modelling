{
 "cells": [
  {
   "cell_type": "markdown",
   "metadata": {},
   "source": [
    "Build a regression model."
   ]
  },
  {
   "cell_type": "code",
   "execution_count": 43,
   "metadata": {},
   "outputs": [],
   "source": [
    "import pandas as pd\n",
    "import sqlite3\n",
    "from sqlite3 import Error\n",
    "import statsmodels.api as sm"
   ]
  },
  {
   "cell_type": "code",
   "execution_count": 44,
   "metadata": {},
   "outputs": [],
   "source": [
    "def create_connection(path):\n",
    "    connection = None\n",
    "    try:\n",
    "        connection = sqlite3.connect(path)\n",
    "        print(\"Connection to SQLite DB successful\")\n",
    "    except Error as e:\n",
    "        print(f\"The error '{e}' occurred\")\n",
    "\n",
    "    return connection"
   ]
  },
  {
   "cell_type": "code",
   "execution_count": 51,
   "metadata": {},
   "outputs": [
    {
     "name": "stdout",
     "output_type": "stream",
     "text": [
      "Connection to SQLite DB successful\n"
     ]
    }
   ],
   "source": [
    "connection = create_connection(\"sm_app.sqlite\")"
   ]
  },
  {
   "cell_type": "code",
   "execution_count": 69,
   "metadata": {},
   "outputs": [],
   "source": [
    "df = pd.read_sql('SELECT * FROM pois', connection)"
   ]
  },
  {
   "cell_type": "code",
   "execution_count": 71,
   "metadata": {},
   "outputs": [],
   "source": [
    "values = {'rating': df['rating'].mean(), 'review count': df['review count'].mean()}"
   ]
  },
  {
   "cell_type": "code",
   "execution_count": 72,
   "metadata": {},
   "outputs": [],
   "source": [
    "df = df.fillna(value=values)"
   ]
  },
  {
   "cell_type": "code",
   "execution_count": 73,
   "metadata": {},
   "outputs": [
    {
     "data": {
      "text/html": [
       "<div>\n",
       "<style scoped>\n",
       "    .dataframe tbody tr th:only-of-type {\n",
       "        vertical-align: middle;\n",
       "    }\n",
       "\n",
       "    .dataframe tbody tr th {\n",
       "        vertical-align: top;\n",
       "    }\n",
       "\n",
       "    .dataframe thead th {\n",
       "        text-align: right;\n",
       "    }\n",
       "</style>\n",
       "<table border=\"1\" class=\"dataframe\">\n",
       "  <thead>\n",
       "    <tr style=\"text-align: right;\">\n",
       "      <th></th>\n",
       "      <th>index</th>\n",
       "      <th>station name</th>\n",
       "      <th>name</th>\n",
       "      <th>address</th>\n",
       "      <th>category</th>\n",
       "      <th>rating</th>\n",
       "      <th>review count</th>\n",
       "      <th>free_bikes</th>\n",
       "      <th>latitude</th>\n",
       "      <th>longitude</th>\n",
       "    </tr>\n",
       "  </thead>\n",
       "  <tbody>\n",
       "    <tr>\n",
       "      <th>0</th>\n",
       "      <td>0</td>\n",
       "      <td>01. Curtatone</td>\n",
       "      <td>Pizzeria Alle Scalette</td>\n",
       "      <td>Viale Curtatone 18</td>\n",
       "      <td>Pizzeria</td>\n",
       "      <td>4.183333</td>\n",
       "      <td>11.966667</td>\n",
       "      <td>0</td>\n",
       "      <td>43.32160</td>\n",
       "      <td>11.327948</td>\n",
       "    </tr>\n",
       "    <tr>\n",
       "      <th>1</th>\n",
       "      <td>1</td>\n",
       "      <td>01. Curtatone</td>\n",
       "      <td>Piazza Giacomo Matteotti</td>\n",
       "      <td>Piazza Giacomo Matteotti</td>\n",
       "      <td>Plaza</td>\n",
       "      <td>4.183333</td>\n",
       "      <td>11.966667</td>\n",
       "      <td>0</td>\n",
       "      <td>43.32160</td>\n",
       "      <td>11.327948</td>\n",
       "    </tr>\n",
       "    <tr>\n",
       "      <th>2</th>\n",
       "      <td>2</td>\n",
       "      <td>01. Curtatone</td>\n",
       "      <td>Basilica di San Domenico</td>\n",
       "      <td>Piazza San Domenico</td>\n",
       "      <td>Church</td>\n",
       "      <td>4.183333</td>\n",
       "      <td>11.966667</td>\n",
       "      <td>0</td>\n",
       "      <td>43.32160</td>\n",
       "      <td>11.327948</td>\n",
       "    </tr>\n",
       "    <tr>\n",
       "      <th>3</th>\n",
       "      <td>3</td>\n",
       "      <td>01. Curtatone</td>\n",
       "      <td>Caffè La Piazzetta</td>\n",
       "      <td>Via Montanini 52</td>\n",
       "      <td>Bar, Café, Italian Restaurant</td>\n",
       "      <td>4.183333</td>\n",
       "      <td>11.966667</td>\n",
       "      <td>0</td>\n",
       "      <td>43.32160</td>\n",
       "      <td>11.327948</td>\n",
       "    </tr>\n",
       "    <tr>\n",
       "      <th>4</th>\n",
       "      <td>4</td>\n",
       "      <td>01. Curtatone</td>\n",
       "      <td>Consorzio Agrario di Siena</td>\n",
       "      <td>Via Pianigiani Giuseppe 9</td>\n",
       "      <td>Grocery Store</td>\n",
       "      <td>4.183333</td>\n",
       "      <td>11.966667</td>\n",
       "      <td>0</td>\n",
       "      <td>43.32160</td>\n",
       "      <td>11.327948</td>\n",
       "    </tr>\n",
       "    <tr>\n",
       "      <th>...</th>\n",
       "      <td>...</td>\n",
       "      <td>...</td>\n",
       "      <td>...</td>\n",
       "      <td>...</td>\n",
       "      <td>...</td>\n",
       "      <td>...</td>\n",
       "      <td>...</td>\n",
       "      <td>...</td>\n",
       "      <td>...</td>\n",
       "      <td>...</td>\n",
       "    </tr>\n",
       "    <tr>\n",
       "      <th>226</th>\n",
       "      <td>226</td>\n",
       "      <td>19. Petriccio</td>\n",
       "      <td>Erboristeria La Pimpinella</td>\n",
       "      <td>Via Celso Cittadini 16</td>\n",
       "      <td>Alternative Medicine Clinic, Drugstore</td>\n",
       "      <td>4.183333</td>\n",
       "      <td>11.966667</td>\n",
       "      <td>0</td>\n",
       "      <td>43.33464</td>\n",
       "      <td>11.304803</td>\n",
       "    </tr>\n",
       "    <tr>\n",
       "      <th>227</th>\n",
       "      <td>227</td>\n",
       "      <td>19. Petriccio</td>\n",
       "      <td>Parrocchia Beato Bernardo Tolomei</td>\n",
       "      <td>Via Tolomei Bernardo 1</td>\n",
       "      <td>Church</td>\n",
       "      <td>4.183333</td>\n",
       "      <td>11.966667</td>\n",
       "      <td>0</td>\n",
       "      <td>43.33464</td>\n",
       "      <td>11.304803</td>\n",
       "    </tr>\n",
       "    <tr>\n",
       "      <th>228</th>\n",
       "      <td>228</td>\n",
       "      <td>19. Petriccio</td>\n",
       "      <td>Dr. Vigni Farmacia</td>\n",
       "      <td>Via Quinto Settano 1</td>\n",
       "      <td>Drugstore</td>\n",
       "      <td>4.183333</td>\n",
       "      <td>11.966667</td>\n",
       "      <td>0</td>\n",
       "      <td>43.33464</td>\n",
       "      <td>11.304803</td>\n",
       "    </tr>\n",
       "    <tr>\n",
       "      <th>229</th>\n",
       "      <td>229</td>\n",
       "      <td>19. Petriccio</td>\n",
       "      <td>Bovicelli Roberto</td>\n",
       "      <td>Via Gallerani 23</td>\n",
       "      <td>Dentist</td>\n",
       "      <td>4.183333</td>\n",
       "      <td>11.966667</td>\n",
       "      <td>0</td>\n",
       "      <td>43.33464</td>\n",
       "      <td>11.304803</td>\n",
       "    </tr>\n",
       "    <tr>\n",
       "      <th>230</th>\n",
       "      <td>230</td>\n",
       "      <td>19. Petriccio</td>\n",
       "      <td>Bar Cecco</td>\n",
       "      <td>Viale Camillo Benso Conte Di Cavour</td>\n",
       "      <td>Cafes, Fast Food, Pizza, Coffee &amp; Tea</td>\n",
       "      <td>3.000000</td>\n",
       "      <td>3.000000</td>\n",
       "      <td>0</td>\n",
       "      <td>43.33464</td>\n",
       "      <td>11.304803</td>\n",
       "    </tr>\n",
       "  </tbody>\n",
       "</table>\n",
       "<p>231 rows × 10 columns</p>\n",
       "</div>"
      ],
      "text/plain": [
       "     index   station name                               name  \\\n",
       "0        0  01. Curtatone             Pizzeria Alle Scalette   \n",
       "1        1  01. Curtatone           Piazza Giacomo Matteotti   \n",
       "2        2  01. Curtatone           Basilica di San Domenico   \n",
       "3        3  01. Curtatone                 Caffè La Piazzetta   \n",
       "4        4  01. Curtatone         Consorzio Agrario di Siena   \n",
       "..     ...            ...                                ...   \n",
       "226    226  19. Petriccio         Erboristeria La Pimpinella   \n",
       "227    227  19. Petriccio  Parrocchia Beato Bernardo Tolomei   \n",
       "228    228  19. Petriccio                 Dr. Vigni Farmacia   \n",
       "229    229  19. Petriccio                  Bovicelli Roberto   \n",
       "230    230  19. Petriccio                          Bar Cecco   \n",
       "\n",
       "                                 address  \\\n",
       "0                     Viale Curtatone 18   \n",
       "1               Piazza Giacomo Matteotti   \n",
       "2                    Piazza San Domenico   \n",
       "3                       Via Montanini 52   \n",
       "4              Via Pianigiani Giuseppe 9   \n",
       "..                                   ...   \n",
       "226               Via Celso Cittadini 16   \n",
       "227               Via Tolomei Bernardo 1   \n",
       "228                 Via Quinto Settano 1   \n",
       "229                     Via Gallerani 23   \n",
       "230  Viale Camillo Benso Conte Di Cavour   \n",
       "\n",
       "                                   category    rating  review count  \\\n",
       "0                                  Pizzeria  4.183333     11.966667   \n",
       "1                                     Plaza  4.183333     11.966667   \n",
       "2                                    Church  4.183333     11.966667   \n",
       "3             Bar, Café, Italian Restaurant  4.183333     11.966667   \n",
       "4                             Grocery Store  4.183333     11.966667   \n",
       "..                                      ...       ...           ...   \n",
       "226  Alternative Medicine Clinic, Drugstore  4.183333     11.966667   \n",
       "227                                  Church  4.183333     11.966667   \n",
       "228                               Drugstore  4.183333     11.966667   \n",
       "229                                 Dentist  4.183333     11.966667   \n",
       "230   Cafes, Fast Food, Pizza, Coffee & Tea  3.000000      3.000000   \n",
       "\n",
       "     free_bikes  latitude  longitude  \n",
       "0             0  43.32160  11.327948  \n",
       "1             0  43.32160  11.327948  \n",
       "2             0  43.32160  11.327948  \n",
       "3             0  43.32160  11.327948  \n",
       "4             0  43.32160  11.327948  \n",
       "..          ...       ...        ...  \n",
       "226           0  43.33464  11.304803  \n",
       "227           0  43.33464  11.304803  \n",
       "228           0  43.33464  11.304803  \n",
       "229           0  43.33464  11.304803  \n",
       "230           0  43.33464  11.304803  \n",
       "\n",
       "[231 rows x 10 columns]"
      ]
     },
     "execution_count": 73,
     "metadata": {},
     "output_type": "execute_result"
    }
   ],
   "source": [
    "df"
   ]
  },
  {
   "cell_type": "code",
   "execution_count": 74,
   "metadata": {},
   "outputs": [],
   "source": [
    "X = df['rating']\n",
    "y = df['free_bikes']\n",
    "\n",
    "X = sm.add_constant(X)\n",
    "lin_reg = sm.OLS(y,X)"
   ]
  },
  {
   "cell_type": "markdown",
   "metadata": {},
   "source": [
    "Provide model output and an interpretation of the results. "
   ]
  },
  {
   "cell_type": "code",
   "execution_count": 75,
   "metadata": {},
   "outputs": [
    {
     "name": "stdout",
     "output_type": "stream",
     "text": [
      "                            OLS Regression Results                            \n",
      "==============================================================================\n",
      "Dep. Variable:             free_bikes   R-squared:                       0.006\n",
      "Model:                            OLS   Adj. R-squared:                  0.001\n",
      "Method:                 Least Squares   F-statistic:                     1.271\n",
      "Date:                Sun, 30 Jul 2023   Prob (F-statistic):              0.261\n",
      "Time:                        12:56:26   Log-Likelihood:                -523.40\n",
      "No. Observations:                 231   AIC:                             1051.\n",
      "Df Residuals:                     229   BIC:                             1058.\n",
      "Df Model:                           1                                         \n",
      "Covariance Type:            nonrobust                                         \n",
      "==============================================================================\n",
      "                 coef    std err          t      P>|t|      [0.025      0.975]\n",
      "------------------------------------------------------------------------------\n",
      "const         -0.0835      1.438     -0.058      0.954      -2.917       2.750\n",
      "rating         0.3852      0.342      1.127      0.261      -0.288       1.059\n",
      "==============================================================================\n",
      "Omnibus:                       95.387   Durbin-Watson:                   0.186\n",
      "Prob(Omnibus):                  0.000   Jarque-Bera (JB):              250.902\n",
      "Skew:                           1.917   Prob(JB):                     3.29e-55\n",
      "Kurtosis:                       6.372   Cond. No.                         41.4\n",
      "==============================================================================\n",
      "\n",
      "Notes:\n",
      "[1] Standard Errors assume that the covariance matrix of the errors is correctly specified.\n"
     ]
    }
   ],
   "source": [
    "model = lin_reg.fit()\n",
    "print_model = model.summary()\n",
    "print(print_model)"
   ]
  },
  {
   "cell_type": "markdown",
   "metadata": {},
   "source": [
    "Notes\n",
    "- The R-squared value is 0.000 which means the model is fit\n",
    "- However the p-value is 0.756 > 0.05 so the rating doesn't have significant impact to the number of bikes"
   ]
  },
  {
   "cell_type": "code",
   "execution_count": 76,
   "metadata": {},
   "outputs": [],
   "source": [
    "X = df['review count']\n",
    "y = df['free_bikes']\n",
    "\n",
    "X = sm.add_constant(X)\n",
    "lin_reg = sm.OLS(y,X)"
   ]
  },
  {
   "cell_type": "code",
   "execution_count": 77,
   "metadata": {},
   "outputs": [
    {
     "name": "stdout",
     "output_type": "stream",
     "text": [
      "                            OLS Regression Results                            \n",
      "==============================================================================\n",
      "Dep. Variable:             free_bikes   R-squared:                       0.036\n",
      "Model:                            OLS   Adj. R-squared:                  0.032\n",
      "Method:                 Least Squares   F-statistic:                     8.537\n",
      "Date:                Sun, 30 Jul 2023   Prob (F-statistic):            0.00383\n",
      "Time:                        12:56:34   Log-Likelihood:                -519.81\n",
      "No. Observations:                 231   AIC:                             1044.\n",
      "Df Residuals:                     229   BIC:                             1051.\n",
      "Df Model:                           1                                         \n",
      "Covariance Type:            nonrobust                                         \n",
      "================================================================================\n",
      "                   coef    std err          t      P>|t|      [0.025      0.975]\n",
      "--------------------------------------------------------------------------------\n",
      "const            2.2977      0.304      7.559      0.000       1.699       2.897\n",
      "review count    -0.0643      0.022     -2.922      0.004      -0.108      -0.021\n",
      "==============================================================================\n",
      "Omnibus:                       96.984   Durbin-Watson:                   0.206\n",
      "Prob(Omnibus):                  0.000   Jarque-Bera (JB):              261.379\n",
      "Skew:                           1.937   Prob(JB):                     1.75e-57\n",
      "Kurtosis:                       6.487   Cond. No.                         27.8\n",
      "==============================================================================\n",
      "\n",
      "Notes:\n",
      "[1] Standard Errors assume that the covariance matrix of the errors is correctly specified.\n"
     ]
    }
   ],
   "source": [
    "model = lin_reg.fit()\n",
    "print_model = model.summary()\n",
    "print(print_model)"
   ]
  },
  {
   "cell_type": "markdown",
   "metadata": {},
   "source": [
    "Notes\n",
    "- The R-squared value is 0.000 which means the model is fit\n",
    "- The P-value is 0.004 which mean review count has significant impact to the number of bikes"
   ]
  },
  {
   "cell_type": "markdown",
   "metadata": {},
   "source": [
    "# Stretch"
   ]
  },
  {
   "cell_type": "markdown",
   "metadata": {},
   "source": [
    "How can you turn the regression model into a classification model?"
   ]
  },
  {
   "cell_type": "code",
   "execution_count": null,
   "metadata": {},
   "outputs": [],
   "source": []
  }
 ],
 "metadata": {
  "kernelspec": {
   "display_name": "Python 3",
   "language": "python",
   "name": "python3"
  },
  "language_info": {
   "codemirror_mode": {
    "name": "ipython",
    "version": 3
   },
   "file_extension": ".py",
   "mimetype": "text/x-python",
   "name": "python",
   "nbconvert_exporter": "python",
   "pygments_lexer": "ipython3",
   "version": "3.11.3"
  }
 },
 "nbformat": 4,
 "nbformat_minor": 4
}
