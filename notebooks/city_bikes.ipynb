{
 "cells": [
  {
   "cell_type": "markdown",
   "metadata": {},
   "source": [
    "# CityBikes"
   ]
  },
  {
   "cell_type": "markdown",
   "metadata": {},
   "source": [
    "Send a request to CityBikes for the city of your choice. "
   ]
  },
  {
   "cell_type": "code",
   "execution_count": 1,
   "metadata": {},
   "outputs": [],
   "source": [
    "import requests\n",
    "import os\n",
    "import pandas as pd\n",
    "\n",
    "#api_key = os.environ[\"variable\"]\n",
    "\n",
    "id = \"bicincitta-siena\"\n",
    "url = \"http://api.citybik.es/v2/networks/\" + id\n",
    "\n",
    "headers = {\"accept\": \"application/JSON\"}"
   ]
  },
  {
   "cell_type": "markdown",
   "metadata": {},
   "source": [
    "Parse through the response to get the details you want for the bike stations in that city (latitude, longitude, number of bikes). "
   ]
  },
  {
   "cell_type": "code",
   "execution_count": 21,
   "metadata": {},
   "outputs": [],
   "source": [
    "response = requests.get(url, headers=headers)\n",
    "res_json = response.json()\n",
    "city = res_json['network']['location']['city']\n",
    "lat = res_json['network']['location']['latitude']\n",
    "lon = res_json['network']['location']['longitude']\n",
    "\n",
    "res_station = res_json['network']\n",
    "\n",
    "num_bikes = 0\n",
    "for station in res_station['stations']:\n",
    "    num_bikes += station['free_bikes']"
   ]
  },
  {
   "cell_type": "markdown",
   "metadata": {},
   "source": [
    "Put your parsed results into a DataFrame."
   ]
  },
  {
   "cell_type": "code",
   "execution_count": 22,
   "metadata": {},
   "outputs": [
    {
     "name": "stdout",
     "output_type": "stream",
     "text": [
      "    name  latitude  longitude  num_of_bike\n",
      "0  Siena   43.3186    11.3306           27\n"
     ]
    }
   ],
   "source": [
    "dict_city = {'name': city, 'latitude': lat, 'longitude': lon, 'num_of_bike': num_bikes}\n",
    "dict_city = {k:[v] for k,v in dict_city.items()}\n",
    "df = pd.DataFrame(dict_city)\n",
    "print(df)"
   ]
  },
  {
   "cell_type": "code",
   "execution_count": 23,
   "metadata": {},
   "outputs": [
    {
     "name": "stdout",
     "output_type": "stream",
     "text": [
      "    City  Latitude  Longitude  Num Of Bikes\n",
      "0  Siena   43.3186    11.3306            27\n"
     ]
    }
   ],
   "source": [
    "# # Another way - Create a Pandas Dataframe from Multiple Lists using zip()\n",
    "# import pandas as pd\n",
    "\n",
    "# city = [city]\n",
    "# latitude = [lat]\n",
    "# longitude = [lon]\n",
    "# num_of_bikes = [num_bikes]\n",
    "# zipped = list(zip(city, latitude, longitude, num_of_bikes))\n",
    "\n",
    "# df = pd.DataFrame(zipped, columns=['City', 'Latitude', 'Longitude', 'Num Of Bikes'])\n",
    "\n",
    "# print(df)"
   ]
  }
 ],
 "metadata": {
  "kernelspec": {
   "display_name": "Python 3",
   "language": "python",
   "name": "python3"
  },
  "language_info": {
   "codemirror_mode": {
    "name": "ipython",
    "version": 3
   },
   "file_extension": ".py",
   "mimetype": "text/x-python",
   "name": "python",
   "nbconvert_exporter": "python",
   "pygments_lexer": "ipython3",
   "version": "3.11.3"
  }
 },
 "nbformat": 4,
 "nbformat_minor": 4
}
