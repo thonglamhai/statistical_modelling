{
 "cells": [
  {
   "cell_type": "markdown",
   "metadata": {},
   "source": [
    "Join the data from Part 1 with the data from Part 2 to create a new dataframe."
   ]
  },
  {
   "cell_type": "code",
   "execution_count": 26,
   "metadata": {},
   "outputs": [],
   "source": [
    "import pandas as pd\n",
    "import seaborn as sns"
   ]
  },
  {
   "cell_type": "code",
   "execution_count": 5,
   "metadata": {},
   "outputs": [
    {
     "data": {
      "text/html": [
       "<div>\n",
       "<style scoped>\n",
       "    .dataframe tbody tr th:only-of-type {\n",
       "        vertical-align: middle;\n",
       "    }\n",
       "\n",
       "    .dataframe tbody tr th {\n",
       "        vertical-align: top;\n",
       "    }\n",
       "\n",
       "    .dataframe thead th {\n",
       "        text-align: right;\n",
       "    }\n",
       "</style>\n",
       "<table border=\"1\" class=\"dataframe\">\n",
       "  <thead>\n",
       "    <tr style=\"text-align: right;\">\n",
       "      <th></th>\n",
       "      <th>Unnamed: 0</th>\n",
       "      <th>station name</th>\n",
       "      <th>free_bikes</th>\n",
       "      <th>latitude</th>\n",
       "      <th>longitude</th>\n",
       "    </tr>\n",
       "  </thead>\n",
       "  <tbody>\n",
       "    <tr>\n",
       "      <th>0</th>\n",
       "      <td>0</td>\n",
       "      <td>01. Curtatone</td>\n",
       "      <td>0</td>\n",
       "      <td>43.321600</td>\n",
       "      <td>11.327948</td>\n",
       "    </tr>\n",
       "    <tr>\n",
       "      <th>1</th>\n",
       "      <td>1</td>\n",
       "      <td>02. S. Agostino</td>\n",
       "      <td>0</td>\n",
       "      <td>43.314554</td>\n",
       "      <td>11.331021</td>\n",
       "    </tr>\n",
       "    <tr>\n",
       "      <th>2</th>\n",
       "      <td>2</td>\n",
       "      <td>03. S. Girolamo</td>\n",
       "      <td>3</td>\n",
       "      <td>43.316539</td>\n",
       "      <td>11.337212</td>\n",
       "    </tr>\n",
       "    <tr>\n",
       "      <th>3</th>\n",
       "      <td>3</td>\n",
       "      <td>04. Fortezza</td>\n",
       "      <td>0</td>\n",
       "      <td>43.320523</td>\n",
       "      <td>11.323225</td>\n",
       "    </tr>\n",
       "    <tr>\n",
       "      <th>4</th>\n",
       "      <td>4</td>\n",
       "      <td>05. Antiporto</td>\n",
       "      <td>0</td>\n",
       "      <td>43.328983</td>\n",
       "      <td>11.321913</td>\n",
       "    </tr>\n",
       "    <tr>\n",
       "      <th>5</th>\n",
       "      <td>5</td>\n",
       "      <td>06. Due Ponti</td>\n",
       "      <td>4</td>\n",
       "      <td>43.317187</td>\n",
       "      <td>11.354256</td>\n",
       "    </tr>\n",
       "    <tr>\n",
       "      <th>6</th>\n",
       "      <td>6</td>\n",
       "      <td>07. Napoli</td>\n",
       "      <td>1</td>\n",
       "      <td>43.341757</td>\n",
       "      <td>11.305010</td>\n",
       "    </tr>\n",
       "    <tr>\n",
       "      <th>7</th>\n",
       "      <td>7</td>\n",
       "      <td>08. Ospedale</td>\n",
       "      <td>0</td>\n",
       "      <td>43.343243</td>\n",
       "      <td>11.326733</td>\n",
       "    </tr>\n",
       "    <tr>\n",
       "      <th>8</th>\n",
       "      <td>8</td>\n",
       "      <td>09. Acquacalda</td>\n",
       "      <td>0</td>\n",
       "      <td>43.336999</td>\n",
       "      <td>11.300975</td>\n",
       "    </tr>\n",
       "    <tr>\n",
       "      <th>9</th>\n",
       "      <td>9</td>\n",
       "      <td>10. Ravacciano</td>\n",
       "      <td>1</td>\n",
       "      <td>43.323781</td>\n",
       "      <td>11.338891</td>\n",
       "    </tr>\n",
       "    <tr>\n",
       "      <th>10</th>\n",
       "      <td>10</td>\n",
       "      <td>11. S. Miniato</td>\n",
       "      <td>4</td>\n",
       "      <td>43.347800</td>\n",
       "      <td>11.326046</td>\n",
       "    </tr>\n",
       "    <tr>\n",
       "      <th>11</th>\n",
       "      <td>11</td>\n",
       "      <td>12. Terminal Bus</td>\n",
       "      <td>2</td>\n",
       "      <td>43.332288</td>\n",
       "      <td>11.324176</td>\n",
       "    </tr>\n",
       "    <tr>\n",
       "      <th>12</th>\n",
       "      <td>12</td>\n",
       "      <td>14. Vico Alto</td>\n",
       "      <td>0</td>\n",
       "      <td>43.341445</td>\n",
       "      <td>11.312348</td>\n",
       "    </tr>\n",
       "    <tr>\n",
       "      <th>13</th>\n",
       "      <td>13</td>\n",
       "      <td>15. Casa dell'Ambiente</td>\n",
       "      <td>1</td>\n",
       "      <td>43.326764</td>\n",
       "      <td>11.333702</td>\n",
       "    </tr>\n",
       "    <tr>\n",
       "      <th>14</th>\n",
       "      <td>14</td>\n",
       "      <td>16. Frajese</td>\n",
       "      <td>9</td>\n",
       "      <td>43.309896</td>\n",
       "      <td>11.315263</td>\n",
       "    </tr>\n",
       "    <tr>\n",
       "      <th>15</th>\n",
       "      <td>15</td>\n",
       "      <td>17. Mercato</td>\n",
       "      <td>0</td>\n",
       "      <td>43.317315</td>\n",
       "      <td>11.332998</td>\n",
       "    </tr>\n",
       "    <tr>\n",
       "      <th>16</th>\n",
       "      <td>16</td>\n",
       "      <td>18. Tufi</td>\n",
       "      <td>3</td>\n",
       "      <td>43.296856</td>\n",
       "      <td>11.334854</td>\n",
       "    </tr>\n",
       "    <tr>\n",
       "      <th>17</th>\n",
       "      <td>17</td>\n",
       "      <td>13. Calamandrei</td>\n",
       "      <td>0</td>\n",
       "      <td>43.343407</td>\n",
       "      <td>11.322849</td>\n",
       "    </tr>\n",
       "    <tr>\n",
       "      <th>18</th>\n",
       "      <td>18</td>\n",
       "      <td>19. Petriccio</td>\n",
       "      <td>0</td>\n",
       "      <td>43.334640</td>\n",
       "      <td>11.304803</td>\n",
       "    </tr>\n",
       "  </tbody>\n",
       "</table>\n",
       "</div>"
      ],
      "text/plain": [
       "    Unnamed: 0            station name  free_bikes   latitude  longitude\n",
       "0            0           01. Curtatone           0  43.321600  11.327948\n",
       "1            1         02. S. Agostino           0  43.314554  11.331021\n",
       "2            2         03. S. Girolamo           3  43.316539  11.337212\n",
       "3            3            04. Fortezza           0  43.320523  11.323225\n",
       "4            4           05. Antiporto           0  43.328983  11.321913\n",
       "5            5           06. Due Ponti           4  43.317187  11.354256\n",
       "6            6              07. Napoli           1  43.341757  11.305010\n",
       "7            7            08. Ospedale           0  43.343243  11.326733\n",
       "8            8          09. Acquacalda           0  43.336999  11.300975\n",
       "9            9          10. Ravacciano           1  43.323781  11.338891\n",
       "10          10          11. S. Miniato           4  43.347800  11.326046\n",
       "11          11        12. Terminal Bus           2  43.332288  11.324176\n",
       "12          12           14. Vico Alto           0  43.341445  11.312348\n",
       "13          13  15. Casa dell'Ambiente           1  43.326764  11.333702\n",
       "14          14             16. Frajese           9  43.309896  11.315263\n",
       "15          15             17. Mercato           0  43.317315  11.332998\n",
       "16          16                18. Tufi           3  43.296856  11.334854\n",
       "17          17         13. Calamandrei           0  43.343407  11.322849\n",
       "18          18           19. Petriccio           0  43.334640  11.304803"
      ]
     },
     "execution_count": 5,
     "metadata": {},
     "output_type": "execute_result"
    }
   ],
   "source": [
    "df_city_bikes = pd.read_csv('../data/city_bikes.csv')\n",
    "df_city_bikes"
   ]
  },
  {
   "cell_type": "code",
   "execution_count": 8,
   "metadata": {},
   "outputs": [
    {
     "data": {
      "text/html": [
       "<div>\n",
       "<style scoped>\n",
       "    .dataframe tbody tr th:only-of-type {\n",
       "        vertical-align: middle;\n",
       "    }\n",
       "\n",
       "    .dataframe tbody tr th {\n",
       "        vertical-align: top;\n",
       "    }\n",
       "\n",
       "    .dataframe thead th {\n",
       "        text-align: right;\n",
       "    }\n",
       "</style>\n",
       "<table border=\"1\" class=\"dataframe\">\n",
       "  <thead>\n",
       "    <tr style=\"text-align: right;\">\n",
       "      <th></th>\n",
       "      <th>Unnamed: 0</th>\n",
       "      <th>station name</th>\n",
       "      <th>name</th>\n",
       "      <th>address</th>\n",
       "      <th>category</th>\n",
       "      <th>rating</th>\n",
       "    </tr>\n",
       "  </thead>\n",
       "  <tbody>\n",
       "    <tr>\n",
       "      <th>0</th>\n",
       "      <td>0</td>\n",
       "      <td>01. Curtatone</td>\n",
       "      <td>Pizzeria Alle Scalette</td>\n",
       "      <td>Viale Curtatone 18</td>\n",
       "      <td>Pizzeria</td>\n",
       "      <td>NaN</td>\n",
       "    </tr>\n",
       "    <tr>\n",
       "      <th>1</th>\n",
       "      <td>1</td>\n",
       "      <td>01. Curtatone</td>\n",
       "      <td>Piazza Giacomo Matteotti</td>\n",
       "      <td>Piazza Giacomo Matteotti</td>\n",
       "      <td>Plaza</td>\n",
       "      <td>NaN</td>\n",
       "    </tr>\n",
       "    <tr>\n",
       "      <th>2</th>\n",
       "      <td>2</td>\n",
       "      <td>01. Curtatone</td>\n",
       "      <td>Basilica di San Domenico</td>\n",
       "      <td>Piazza San Domenico</td>\n",
       "      <td>Church</td>\n",
       "      <td>NaN</td>\n",
       "    </tr>\n",
       "    <tr>\n",
       "      <th>3</th>\n",
       "      <td>3</td>\n",
       "      <td>01. Curtatone</td>\n",
       "      <td>Caffè La Piazzetta</td>\n",
       "      <td>Via Montanini 52</td>\n",
       "      <td>Bar</td>\n",
       "      <td>NaN</td>\n",
       "    </tr>\n",
       "    <tr>\n",
       "      <th>4</th>\n",
       "      <td>4</td>\n",
       "      <td>01. Curtatone</td>\n",
       "      <td>Consorzio Agrario di Siena</td>\n",
       "      <td>Via Pianigiani Giuseppe 9</td>\n",
       "      <td>Grocery Store</td>\n",
       "      <td>NaN</td>\n",
       "    </tr>\n",
       "    <tr>\n",
       "      <th>...</th>\n",
       "      <td>...</td>\n",
       "      <td>...</td>\n",
       "      <td>...</td>\n",
       "      <td>...</td>\n",
       "      <td>...</td>\n",
       "      <td>...</td>\n",
       "    </tr>\n",
       "    <tr>\n",
       "      <th>408</th>\n",
       "      <td>408</td>\n",
       "      <td>19. Petriccio</td>\n",
       "      <td>la veranda</td>\n",
       "      <td>Piazza Calabria</td>\n",
       "      <td>Italian</td>\n",
       "      <td>4.5</td>\n",
       "    </tr>\n",
       "    <tr>\n",
       "      <th>409</th>\n",
       "      <td>409</td>\n",
       "      <td>19. Petriccio</td>\n",
       "      <td>Fontebecci</td>\n",
       "      <td>Via Fiorentina 133</td>\n",
       "      <td>Pizza</td>\n",
       "      <td>2.0</td>\n",
       "    </tr>\n",
       "    <tr>\n",
       "      <th>410</th>\n",
       "      <td>410</td>\n",
       "      <td>19. Petriccio</td>\n",
       "      <td>Mc Donald's</td>\n",
       "      <td>Via Fiorentina 124</td>\n",
       "      <td>Fast Food</td>\n",
       "      <td>2.0</td>\n",
       "    </tr>\n",
       "    <tr>\n",
       "      <th>411</th>\n",
       "      <td>411</td>\n",
       "      <td>19. Petriccio</td>\n",
       "      <td>Bar Cecco</td>\n",
       "      <td>Viale Camillo Benso Conte Di Cavour</td>\n",
       "      <td>Cafes</td>\n",
       "      <td>3.0</td>\n",
       "    </tr>\n",
       "    <tr>\n",
       "      <th>412</th>\n",
       "      <td>412</td>\n",
       "      <td>19. Petriccio</td>\n",
       "      <td>Skile' Music Bar</td>\n",
       "      <td>Piazza Calabria 18</td>\n",
       "      <td>Cafes</td>\n",
       "      <td>3.0</td>\n",
       "    </tr>\n",
       "  </tbody>\n",
       "</table>\n",
       "<p>413 rows × 6 columns</p>\n",
       "</div>"
      ],
      "text/plain": [
       "     Unnamed: 0   station name                        name  \\\n",
       "0             0  01. Curtatone      Pizzeria Alle Scalette   \n",
       "1             1  01. Curtatone    Piazza Giacomo Matteotti   \n",
       "2             2  01. Curtatone    Basilica di San Domenico   \n",
       "3             3  01. Curtatone          Caffè La Piazzetta   \n",
       "4             4  01. Curtatone  Consorzio Agrario di Siena   \n",
       "..          ...            ...                         ...   \n",
       "408         408  19. Petriccio                  la veranda   \n",
       "409         409  19. Petriccio                  Fontebecci   \n",
       "410         410  19. Petriccio                 Mc Donald's   \n",
       "411         411  19. Petriccio                   Bar Cecco   \n",
       "412         412  19. Petriccio            Skile' Music Bar   \n",
       "\n",
       "                                 address       category  rating  \n",
       "0                     Viale Curtatone 18       Pizzeria     NaN  \n",
       "1               Piazza Giacomo Matteotti          Plaza     NaN  \n",
       "2                    Piazza San Domenico         Church     NaN  \n",
       "3                       Via Montanini 52            Bar     NaN  \n",
       "4              Via Pianigiani Giuseppe 9  Grocery Store     NaN  \n",
       "..                                   ...            ...     ...  \n",
       "408                      Piazza Calabria        Italian     4.5  \n",
       "409                   Via Fiorentina 133          Pizza     2.0  \n",
       "410                   Via Fiorentina 124      Fast Food     2.0  \n",
       "411  Viale Camillo Benso Conte Di Cavour          Cafes     3.0  \n",
       "412                   Piazza Calabria 18          Cafes     3.0  \n",
       "\n",
       "[413 rows x 6 columns]"
      ]
     },
     "execution_count": 8,
     "metadata": {},
     "output_type": "execute_result"
    }
   ],
   "source": [
    "df_foursquare_yelp = pd.read_csv('../data/foursquare_yelp.csv')\n",
    "df_foursquare_yelp"
   ]
  },
  {
   "cell_type": "markdown",
   "metadata": {},
   "source": [
    "Provide a visualization that you used as part of your EDA process. Explain the initial pattern or relationship you discoved through this visualization. "
   ]
  },
  {
   "cell_type": "code",
   "execution_count": 15,
   "metadata": {},
   "outputs": [
    {
     "data": {
      "text/plain": [
       "Index(['Unnamed: 0_x', 'station name', 'name', 'address', 'category', 'rating',\n",
       "       'Unnamed: 0_y', 'free_bikes', 'latitude', 'longitude'],\n",
       "      dtype='object')"
      ]
     },
     "execution_count": 15,
     "metadata": {},
     "output_type": "execute_result"
    }
   ],
   "source": [
    "df_merge = pd.merge(df_foursquare_yelp, df_city_bikes, on='station name')\n",
    "df_merge.columns\n"
   ]
  },
  {
   "cell_type": "code",
   "execution_count": 19,
   "metadata": {},
   "outputs": [],
   "source": [
    "# remove the unused columns\n",
    "df_merge = df_merge.drop('Unnamed: 0_x', axis=1)"
   ]
  },
  {
   "cell_type": "code",
   "execution_count": 20,
   "metadata": {},
   "outputs": [],
   "source": [
    "df_merge = df_merge.drop('Unnamed: 0_y', axis=1)"
   ]
  },
  {
   "cell_type": "code",
   "execution_count": 24,
   "metadata": {},
   "outputs": [
    {
     "data": {
      "text/plain": [
       "(413, 8)"
      ]
     },
     "execution_count": 24,
     "metadata": {},
     "output_type": "execute_result"
    }
   ],
   "source": [
    "df_merge.shape"
   ]
  },
  {
   "cell_type": "markdown",
   "metadata": {},
   "source": [
    "Find out more about the data using descriptive statistics. Descriptive statistics gives a way of giving a brief overview of the dataset we are dealing with, including some measures and features of the sample\n",
    "Consider grouping data (basic grouping with group by)\n",
    "Consider plotting data columns to find out how the data in the columns are distributed\n",
    "Consider creating scatter plots to explore the relationships between two numerical columns\n",
    "Conduct a hypothesis test against a hypothesis based on your understanding or observation of the data\n",
    "Consider exploring correlations among different variables (different columns)"
   ]
  },
  {
   "cell_type": "code",
   "execution_count": 25,
   "metadata": {},
   "outputs": [
    {
     "data": {
      "text/html": [
       "<div>\n",
       "<style scoped>\n",
       "    .dataframe tbody tr th:only-of-type {\n",
       "        vertical-align: middle;\n",
       "    }\n",
       "\n",
       "    .dataframe tbody tr th {\n",
       "        vertical-align: top;\n",
       "    }\n",
       "\n",
       "    .dataframe thead th {\n",
       "        text-align: right;\n",
       "    }\n",
       "</style>\n",
       "<table border=\"1\" class=\"dataframe\">\n",
       "  <thead>\n",
       "    <tr style=\"text-align: right;\">\n",
       "      <th></th>\n",
       "      <th>rating</th>\n",
       "      <th>free_bikes</th>\n",
       "      <th>latitude</th>\n",
       "      <th>longitude</th>\n",
       "    </tr>\n",
       "  </thead>\n",
       "  <tbody>\n",
       "    <tr>\n",
       "      <th>count</th>\n",
       "      <td>223.000000</td>\n",
       "      <td>413.000000</td>\n",
       "      <td>413.000000</td>\n",
       "      <td>413.000000</td>\n",
       "    </tr>\n",
       "    <tr>\n",
       "      <th>mean</th>\n",
       "      <td>4.244395</td>\n",
       "      <td>1.280872</td>\n",
       "      <td>43.325393</td>\n",
       "      <td>11.326135</td>\n",
       "    </tr>\n",
       "    <tr>\n",
       "      <th>std</th>\n",
       "      <td>0.736532</td>\n",
       "      <td>2.101444</td>\n",
       "      <td>0.011160</td>\n",
       "      <td>0.011510</td>\n",
       "    </tr>\n",
       "    <tr>\n",
       "      <th>min</th>\n",
       "      <td>1.000000</td>\n",
       "      <td>0.000000</td>\n",
       "      <td>43.296856</td>\n",
       "      <td>11.300975</td>\n",
       "    </tr>\n",
       "    <tr>\n",
       "      <th>25%</th>\n",
       "      <td>4.000000</td>\n",
       "      <td>0.000000</td>\n",
       "      <td>43.317187</td>\n",
       "      <td>11.321913</td>\n",
       "    </tr>\n",
       "    <tr>\n",
       "      <th>50%</th>\n",
       "      <td>4.500000</td>\n",
       "      <td>0.000000</td>\n",
       "      <td>43.323781</td>\n",
       "      <td>11.326733</td>\n",
       "    </tr>\n",
       "    <tr>\n",
       "      <th>75%</th>\n",
       "      <td>4.500000</td>\n",
       "      <td>2.000000</td>\n",
       "      <td>43.332288</td>\n",
       "      <td>11.333702</td>\n",
       "    </tr>\n",
       "    <tr>\n",
       "      <th>max</th>\n",
       "      <td>5.000000</td>\n",
       "      <td>9.000000</td>\n",
       "      <td>43.347800</td>\n",
       "      <td>11.354256</td>\n",
       "    </tr>\n",
       "  </tbody>\n",
       "</table>\n",
       "</div>"
      ],
      "text/plain": [
       "           rating  free_bikes    latitude   longitude\n",
       "count  223.000000  413.000000  413.000000  413.000000\n",
       "mean     4.244395    1.280872   43.325393   11.326135\n",
       "std      0.736532    2.101444    0.011160    0.011510\n",
       "min      1.000000    0.000000   43.296856   11.300975\n",
       "25%      4.000000    0.000000   43.317187   11.321913\n",
       "50%      4.500000    0.000000   43.323781   11.326733\n",
       "75%      4.500000    2.000000   43.332288   11.333702\n",
       "max      5.000000    9.000000   43.347800   11.354256"
      ]
     },
     "execution_count": 25,
     "metadata": {},
     "output_type": "execute_result"
    }
   ],
   "source": [
    "# Find out more about the data using descriptive statistics.\n",
    "df_merge.describe()"
   ]
  },
  {
   "cell_type": "markdown",
   "metadata": {},
   "source": [
    "Note:\n",
    "- The overall rating is quite good > 4.0\n",
    "- The number of free bikes at each station is low ~ 1.3\n",
    "  "
   ]
  },
  {
   "cell_type": "code",
   "execution_count": 27,
   "metadata": {},
   "outputs": [
    {
     "data": {
      "text/plain": [
       "<Axes: xlabel='rating', ylabel='Count'>"
      ]
     },
     "execution_count": 27,
     "metadata": {},
     "output_type": "execute_result"
    },
    {
     "data": {
      "image/png": "[encoded data removed]",
      "text/plain": [
       "<Figure size 640x480 with 1 Axes>"
      ]
     },
     "metadata": {},
     "output_type": "display_data"
    }
   ],
   "source": [
    "# histogram\n",
    "sns.histplot(df_merge['rating'])"
   ]
  },
  {
   "cell_type": "code",
   "execution_count": 28,
   "metadata": {},
   "outputs": [
    {
     "data": {
      "text/plain": [
       "['address',\n",
       " 'category',\n",
       " 'free_bikes',\n",
       " 'latitude',\n",
       " 'longitude',\n",
       " 'name',\n",
       " 'rating',\n",
       " 'station name']"
      ]
     },
     "execution_count": 28,
     "metadata": {},
     "output_type": "execute_result"
    }
   ],
   "source": [
    "sorted(list(df_merge.columns))"
   ]
  },
  {
   "cell_type": "code",
   "execution_count": 42,
   "metadata": {},
   "outputs": [
    {
     "data": {
      "text/plain": [
       "<Axes: xlabel='free_bikes', ylabel='rating'>"
      ]
     },
     "execution_count": 42,
     "metadata": {},
     "output_type": "execute_result"
    },
    {
     "data": {
      "image/png": "[encoded data removed]",
      "text/plain": [
       "<Figure size 640x480 with 1 Axes>"
      ]
     },
     "metadata": {},
     "output_type": "display_data"
    }
   ],
   "source": [
    "# scatter plot free_bikes & rating\n",
    "var = 'free_bikes'\n",
    "data = df_merge[['rating',var]]\n",
    "data.plot.scatter(x=var, y='rating', ylim=(0,50))"
   ]
  },
  {
   "cell_type": "markdown",
   "metadata": {},
   "source": [
    "# Database"
   ]
  },
  {
   "cell_type": "markdown",
   "metadata": {},
   "source": [
    "Put all your results in an SQLite3 database (remember, SQLite stores its databases as files in your local machine - make sure to create your database in your project's data/ directory!)"
   ]
  },
  {
   "cell_type": "code",
   "execution_count": 43,
   "metadata": {},
   "outputs": [],
   "source": [
    "import sqlite3\n",
    "from sqlite3 import Error\n",
    "\n",
    "def create_connection(path):\n",
    "    connection = None\n",
    "    try:\n",
    "        connection = sqlite3.connect(path)\n",
    "        print(\"Connection to SQLite DB successful\")\n",
    "    except Error as e:\n",
    "        print(f\"The error '{e}' occurred\")\n",
    "\n",
    "    return connection"
   ]
  },
  {
   "cell_type": "markdown",
   "metadata": {},
   "source": [
    "Look at the data before and after the join to validate your data."
   ]
  },
  {
   "cell_type": "code",
   "execution_count": 44,
   "metadata": {},
   "outputs": [
    {
     "name": "stdout",
     "output_type": "stream",
     "text": [
      "Connection to SQLite DB successful\n"
     ]
    }
   ],
   "source": [
    "connection = create_connection(\"sm_app.sqlite\")"
   ]
  },
  {
   "cell_type": "code",
   "execution_count": 45,
   "metadata": {},
   "outputs": [],
   "source": [
    "def execute_query(connection, query):\n",
    "    cursor = connection.cursor()\n",
    "    try:\n",
    "        cursor.execute(query)\n",
    "        connection.commit()\n",
    "        print(\"Query executed successfully\")\n",
    "    except Error as e:\n",
    "        print(f\"The error '{e}' occurred\")"
   ]
  },
  {
   "cell_type": "code",
   "execution_count": 47,
   "metadata": {},
   "outputs": [
    {
     "name": "stdout",
     "output_type": "stream",
     "text": [
      "<class 'pandas.core.frame.DataFrame'>\n",
      "Int64Index: 413 entries, 0 to 412\n",
      "Data columns (total 8 columns):\n",
      " #   Column        Non-Null Count  Dtype  \n",
      "---  ------        --------------  -----  \n",
      " 0   station name  413 non-null    object \n",
      " 1   name          413 non-null    object \n",
      " 2   address       413 non-null    object \n",
      " 3   category      393 non-null    object \n",
      " 4   rating        223 non-null    float64\n",
      " 5   free_bikes    413 non-null    int64  \n",
      " 6   latitude      413 non-null    float64\n",
      " 7   longitude     413 non-null    float64\n",
      "dtypes: float64(3), int64(1), object(4)\n",
      "memory usage: 45.2+ KB\n"
     ]
    }
   ],
   "source": [
    "df_merge.info()"
   ]
  },
  {
   "cell_type": "code",
   "execution_count": 61,
   "metadata": {},
   "outputs": [],
   "source": [
    "create_pois_table = \"\"\"\n",
    "CREATE TABLE IF NOT EXISTS POIS (\n",
    "  id INTEGER PRIMARY KEY AUTOINCREMENT,\n",
    "  station_name TEXT NOT NULL,\n",
    "  name TEXT NOT NULL,\n",
    "  address TEXT,\n",
    "  category TEXT,\n",
    "  rating FLOAT,\n",
    "  free_bikes INTEGER,\n",
    "  latitude FLOAT,\n",
    "  longitude FLOAT\n",
    ");\n",
    "\"\"\""
   ]
  },
  {
   "cell_type": "code",
   "execution_count": 62,
   "metadata": {},
   "outputs": [
    {
     "name": "stdout",
     "output_type": "stream",
     "text": [
      "Query executed successfully\n"
     ]
    }
   ],
   "source": [
    "execute_query(connection, create_pois_table)"
   ]
  },
  {
   "cell_type": "code",
   "execution_count": 66,
   "metadata": {},
   "outputs": [
    {
     "data": {
      "text/plain": [
       "413"
      ]
     },
     "execution_count": 66,
     "metadata": {},
     "output_type": "execute_result"
    }
   ],
   "source": [
    "df_merge.to_sql('pois_table', con=connection, if_exists='append')"
   ]
  }
 ],
 "metadata": {
  "kernelspec": {
   "display_name": "Python 3",
   "language": "python",
   "name": "python3"
  },
  "language_info": {
   "codemirror_mode": {
    "name": "ipython",
    "version": 3
   },
   "file_extension": ".py",
   "mimetype": "text/x-python",
   "name": "python",
   "nbconvert_exporter": "python",
   "pygments_lexer": "ipython3",
   "version": "3.11.3"
  }
 },
 "nbformat": 4,
 "nbformat_minor": 4
}
