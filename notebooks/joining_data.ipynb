{
 "cells": [
  {
   "cell_type": "markdown",
   "metadata": {},
   "source": [
    "Join the data from Part 1 with the data from Part 2 to create a new dataframe."
   ]
  },
  {
   "cell_type": "code",
   "execution_count": 47,
   "metadata": {},
   "outputs": [],
   "source": [
    "import pandas as pd\n",
    "import seaborn as sns\n",
    "import matplotlib.pyplot as plt"
   ]
  },
  {
   "cell_type": "code",
   "execution_count": 48,
   "metadata": {},
   "outputs": [
    {
     "data": {
      "text/html": [
       "<div>\n",
       "<style scoped>\n",
       "    .dataframe tbody tr th:only-of-type {\n",
       "        vertical-align: middle;\n",
       "    }\n",
       "\n",
       "    .dataframe tbody tr th {\n",
       "        vertical-align: top;\n",
       "    }\n",
       "\n",
       "    .dataframe thead th {\n",
       "        text-align: right;\n",
       "    }\n",
       "</style>\n",
       "<table border=\"1\" class=\"dataframe\">\n",
       "  <thead>\n",
       "    <tr style=\"text-align: right;\">\n",
       "      <th></th>\n",
       "      <th>Unnamed: 0</th>\n",
       "      <th>station name</th>\n",
       "      <th>empty slots</th>\n",
       "      <th>available bikes</th>\n",
       "      <th>latitude</th>\n",
       "      <th>longitude</th>\n",
       "    </tr>\n",
       "  </thead>\n",
       "  <tbody>\n",
       "    <tr>\n",
       "      <th>0</th>\n",
       "      <td>0</td>\n",
       "      <td>01. Curtatone</td>\n",
       "      <td>16</td>\n",
       "      <td>0</td>\n",
       "      <td>43.321600</td>\n",
       "      <td>11.327948</td>\n",
       "    </tr>\n",
       "    <tr>\n",
       "      <th>1</th>\n",
       "      <td>1</td>\n",
       "      <td>02. S. Agostino</td>\n",
       "      <td>10</td>\n",
       "      <td>0</td>\n",
       "      <td>43.314554</td>\n",
       "      <td>11.331021</td>\n",
       "    </tr>\n",
       "    <tr>\n",
       "      <th>2</th>\n",
       "      <td>2</td>\n",
       "      <td>03. S. Girolamo</td>\n",
       "      <td>6</td>\n",
       "      <td>0</td>\n",
       "      <td>43.316539</td>\n",
       "      <td>11.337212</td>\n",
       "    </tr>\n",
       "    <tr>\n",
       "      <th>3</th>\n",
       "      <td>3</td>\n",
       "      <td>04. Fortezza</td>\n",
       "      <td>10</td>\n",
       "      <td>0</td>\n",
       "      <td>43.320523</td>\n",
       "      <td>11.323225</td>\n",
       "    </tr>\n",
       "    <tr>\n",
       "      <th>4</th>\n",
       "      <td>4</td>\n",
       "      <td>05. Antiporto</td>\n",
       "      <td>10</td>\n",
       "      <td>0</td>\n",
       "      <td>43.328983</td>\n",
       "      <td>11.321913</td>\n",
       "    </tr>\n",
       "    <tr>\n",
       "      <th>5</th>\n",
       "      <td>5</td>\n",
       "      <td>06. Due Ponti</td>\n",
       "      <td>8</td>\n",
       "      <td>4</td>\n",
       "      <td>43.317187</td>\n",
       "      <td>11.354256</td>\n",
       "    </tr>\n",
       "    <tr>\n",
       "      <th>6</th>\n",
       "      <td>6</td>\n",
       "      <td>07. Napoli</td>\n",
       "      <td>4</td>\n",
       "      <td>2</td>\n",
       "      <td>43.341757</td>\n",
       "      <td>11.305010</td>\n",
       "    </tr>\n",
       "    <tr>\n",
       "      <th>7</th>\n",
       "      <td>7</td>\n",
       "      <td>08. Ospedale</td>\n",
       "      <td>14</td>\n",
       "      <td>0</td>\n",
       "      <td>43.343243</td>\n",
       "      <td>11.326733</td>\n",
       "    </tr>\n",
       "    <tr>\n",
       "      <th>8</th>\n",
       "      <td>8</td>\n",
       "      <td>09. Acquacalda</td>\n",
       "      <td>9</td>\n",
       "      <td>1</td>\n",
       "      <td>43.336999</td>\n",
       "      <td>11.300975</td>\n",
       "    </tr>\n",
       "    <tr>\n",
       "      <th>9</th>\n",
       "      <td>9</td>\n",
       "      <td>10. Ravacciano</td>\n",
       "      <td>9</td>\n",
       "      <td>1</td>\n",
       "      <td>43.323781</td>\n",
       "      <td>11.338891</td>\n",
       "    </tr>\n",
       "    <tr>\n",
       "      <th>10</th>\n",
       "      <td>10</td>\n",
       "      <td>11. S. Miniato</td>\n",
       "      <td>6</td>\n",
       "      <td>4</td>\n",
       "      <td>43.347800</td>\n",
       "      <td>11.326046</td>\n",
       "    </tr>\n",
       "    <tr>\n",
       "      <th>11</th>\n",
       "      <td>11</td>\n",
       "      <td>12. Terminal Bus</td>\n",
       "      <td>11</td>\n",
       "      <td>1</td>\n",
       "      <td>43.332288</td>\n",
       "      <td>11.324176</td>\n",
       "    </tr>\n",
       "    <tr>\n",
       "      <th>12</th>\n",
       "      <td>12</td>\n",
       "      <td>14. Vico Alto</td>\n",
       "      <td>6</td>\n",
       "      <td>0</td>\n",
       "      <td>43.341445</td>\n",
       "      <td>11.312348</td>\n",
       "    </tr>\n",
       "    <tr>\n",
       "      <th>13</th>\n",
       "      <td>13</td>\n",
       "      <td>15. Casa dell'Ambiente</td>\n",
       "      <td>5</td>\n",
       "      <td>1</td>\n",
       "      <td>43.326764</td>\n",
       "      <td>11.333702</td>\n",
       "    </tr>\n",
       "    <tr>\n",
       "      <th>14</th>\n",
       "      <td>14</td>\n",
       "      <td>16. Frajese</td>\n",
       "      <td>2</td>\n",
       "      <td>8</td>\n",
       "      <td>43.309896</td>\n",
       "      <td>11.315263</td>\n",
       "    </tr>\n",
       "    <tr>\n",
       "      <th>15</th>\n",
       "      <td>15</td>\n",
       "      <td>17. Mercato</td>\n",
       "      <td>11</td>\n",
       "      <td>0</td>\n",
       "      <td>43.317315</td>\n",
       "      <td>11.332998</td>\n",
       "    </tr>\n",
       "    <tr>\n",
       "      <th>16</th>\n",
       "      <td>16</td>\n",
       "      <td>18. Tufi</td>\n",
       "      <td>6</td>\n",
       "      <td>3</td>\n",
       "      <td>43.296856</td>\n",
       "      <td>11.334854</td>\n",
       "    </tr>\n",
       "    <tr>\n",
       "      <th>17</th>\n",
       "      <td>17</td>\n",
       "      <td>13. Calamandrei</td>\n",
       "      <td>10</td>\n",
       "      <td>0</td>\n",
       "      <td>43.343407</td>\n",
       "      <td>11.322849</td>\n",
       "    </tr>\n",
       "    <tr>\n",
       "      <th>18</th>\n",
       "      <td>18</td>\n",
       "      <td>19. Petriccio</td>\n",
       "      <td>8</td>\n",
       "      <td>2</td>\n",
       "      <td>43.334640</td>\n",
       "      <td>11.304803</td>\n",
       "    </tr>\n",
       "  </tbody>\n",
       "</table>\n",
       "</div>"
      ],
      "text/plain": [
       "    Unnamed: 0            station name  empty slots  available bikes  \\\n",
       "0            0           01. Curtatone           16                0   \n",
       "1            1         02. S. Agostino           10                0   \n",
       "2            2         03. S. Girolamo            6                0   \n",
       "3            3            04. Fortezza           10                0   \n",
       "4            4           05. Antiporto           10                0   \n",
       "5            5           06. Due Ponti            8                4   \n",
       "6            6              07. Napoli            4                2   \n",
       "7            7            08. Ospedale           14                0   \n",
       "8            8          09. Acquacalda            9                1   \n",
       "9            9          10. Ravacciano            9                1   \n",
       "10          10          11. S. Miniato            6                4   \n",
       "11          11        12. Terminal Bus           11                1   \n",
       "12          12           14. Vico Alto            6                0   \n",
       "13          13  15. Casa dell'Ambiente            5                1   \n",
       "14          14             16. Frajese            2                8   \n",
       "15          15             17. Mercato           11                0   \n",
       "16          16                18. Tufi            6                3   \n",
       "17          17         13. Calamandrei           10                0   \n",
       "18          18           19. Petriccio            8                2   \n",
       "\n",
       "     latitude  longitude  \n",
       "0   43.321600  11.327948  \n",
       "1   43.314554  11.331021  \n",
       "2   43.316539  11.337212  \n",
       "3   43.320523  11.323225  \n",
       "4   43.328983  11.321913  \n",
       "5   43.317187  11.354256  \n",
       "6   43.341757  11.305010  \n",
       "7   43.343243  11.326733  \n",
       "8   43.336999  11.300975  \n",
       "9   43.323781  11.338891  \n",
       "10  43.347800  11.326046  \n",
       "11  43.332288  11.324176  \n",
       "12  43.341445  11.312348  \n",
       "13  43.326764  11.333702  \n",
       "14  43.309896  11.315263  \n",
       "15  43.317315  11.332998  \n",
       "16  43.296856  11.334854  \n",
       "17  43.343407  11.322849  \n",
       "18  43.334640  11.304803  "
      ]
     },
     "execution_count": 48,
     "metadata": {},
     "output_type": "execute_result"
    }
   ],
   "source": [
    "df_city_bikes = pd.read_csv('../data/city_bikes.csv')\n",
    "df_city_bikes"
   ]
  },
  {
   "cell_type": "code",
   "execution_count": 49,
   "metadata": {},
   "outputs": [
    {
     "data": {
      "text/html": [
       "<div>\n",
       "<style scoped>\n",
       "    .dataframe tbody tr th:only-of-type {\n",
       "        vertical-align: middle;\n",
       "    }\n",
       "\n",
       "    .dataframe tbody tr th {\n",
       "        vertical-align: top;\n",
       "    }\n",
       "\n",
       "    .dataframe thead th {\n",
       "        text-align: right;\n",
       "    }\n",
       "</style>\n",
       "<table border=\"1\" class=\"dataframe\">\n",
       "  <thead>\n",
       "    <tr style=\"text-align: right;\">\n",
       "      <th></th>\n",
       "      <th>Unnamed: 0</th>\n",
       "      <th>station name</th>\n",
       "      <th>name</th>\n",
       "      <th>address</th>\n",
       "      <th>category</th>\n",
       "      <th>rating</th>\n",
       "      <th>review count</th>\n",
       "    </tr>\n",
       "  </thead>\n",
       "  <tbody>\n",
       "    <tr>\n",
       "      <th>0</th>\n",
       "      <td>0</td>\n",
       "      <td>01. Curtatone</td>\n",
       "      <td>Pizzeria Alle Scalette</td>\n",
       "      <td>Viale Curtatone 18</td>\n",
       "      <td>Pizzeria</td>\n",
       "      <td>NaN</td>\n",
       "      <td>NaN</td>\n",
       "    </tr>\n",
       "    <tr>\n",
       "      <th>1</th>\n",
       "      <td>1</td>\n",
       "      <td>01. Curtatone</td>\n",
       "      <td>Piazza Giacomo Matteotti</td>\n",
       "      <td>Piazza Giacomo Matteotti</td>\n",
       "      <td>Plaza</td>\n",
       "      <td>NaN</td>\n",
       "      <td>NaN</td>\n",
       "    </tr>\n",
       "    <tr>\n",
       "      <th>2</th>\n",
       "      <td>2</td>\n",
       "      <td>01. Curtatone</td>\n",
       "      <td>Basilica di San Domenico</td>\n",
       "      <td>Piazza San Domenico</td>\n",
       "      <td>Church</td>\n",
       "      <td>NaN</td>\n",
       "      <td>NaN</td>\n",
       "    </tr>\n",
       "    <tr>\n",
       "      <th>3</th>\n",
       "      <td>3</td>\n",
       "      <td>01. Curtatone</td>\n",
       "      <td>Caffè La Piazzetta</td>\n",
       "      <td>Via Montanini 52</td>\n",
       "      <td>Bar, Café, Italian Restaurant</td>\n",
       "      <td>NaN</td>\n",
       "      <td>NaN</td>\n",
       "    </tr>\n",
       "    <tr>\n",
       "      <th>4</th>\n",
       "      <td>4</td>\n",
       "      <td>01. Curtatone</td>\n",
       "      <td>Consorzio Agrario di Siena</td>\n",
       "      <td>Via Pianigiani Giuseppe 9</td>\n",
       "      <td>Grocery Store</td>\n",
       "      <td>NaN</td>\n",
       "      <td>NaN</td>\n",
       "    </tr>\n",
       "    <tr>\n",
       "      <th>...</th>\n",
       "      <td>...</td>\n",
       "      <td>...</td>\n",
       "      <td>...</td>\n",
       "      <td>...</td>\n",
       "      <td>...</td>\n",
       "      <td>...</td>\n",
       "      <td>...</td>\n",
       "    </tr>\n",
       "    <tr>\n",
       "      <th>226</th>\n",
       "      <td>378</td>\n",
       "      <td>16. Frajese</td>\n",
       "      <td>BAR Il Barrino</td>\n",
       "      <td>Str. Massetana Romana, 5</td>\n",
       "      <td>Bars</td>\n",
       "      <td>5.0</td>\n",
       "      <td>2.0</td>\n",
       "    </tr>\n",
       "    <tr>\n",
       "      <th>227</th>\n",
       "      <td>379</td>\n",
       "      <td>16. Frajese</td>\n",
       "      <td>BAR dei Mantellini di Melani Fabiola</td>\n",
       "      <td>Via Piano dei Mantellini, 22</td>\n",
       "      <td>Bars</td>\n",
       "      <td>5.0</td>\n",
       "      <td>1.0</td>\n",
       "    </tr>\n",
       "    <tr>\n",
       "      <th>228</th>\n",
       "      <td>402</td>\n",
       "      <td>18. Tufi</td>\n",
       "      <td>Antica Salumeria Salvini Ciofi Soccol e Zanolli</td>\n",
       "      <td>Str. Statale 73 Ponente, 46</td>\n",
       "      <td>NaN</td>\n",
       "      <td>3.0</td>\n",
       "      <td>1.0</td>\n",
       "    </tr>\n",
       "    <tr>\n",
       "      <th>229</th>\n",
       "      <td>403</td>\n",
       "      <td>18. Tufi</td>\n",
       "      <td>Il Tocco</td>\n",
       "      <td>Via Cassia Sud 122</td>\n",
       "      <td>Pizza, Cafes, Tuscan</td>\n",
       "      <td>4.0</td>\n",
       "      <td>2.0</td>\n",
       "    </tr>\n",
       "    <tr>\n",
       "      <th>230</th>\n",
       "      <td>411</td>\n",
       "      <td>19. Petriccio</td>\n",
       "      <td>Bar Cecco</td>\n",
       "      <td>Viale Camillo Benso Conte Di Cavour</td>\n",
       "      <td>Cafes, Fast Food, Pizza, Coffee &amp; Tea</td>\n",
       "      <td>3.0</td>\n",
       "      <td>3.0</td>\n",
       "    </tr>\n",
       "  </tbody>\n",
       "</table>\n",
       "<p>231 rows × 7 columns</p>\n",
       "</div>"
      ],
      "text/plain": [
       "     Unnamed: 0   station name  \\\n",
       "0             0  01. Curtatone   \n",
       "1             1  01. Curtatone   \n",
       "2             2  01. Curtatone   \n",
       "3             3  01. Curtatone   \n",
       "4             4  01. Curtatone   \n",
       "..          ...            ...   \n",
       "226         378    16. Frajese   \n",
       "227         379    16. Frajese   \n",
       "228         402       18. Tufi   \n",
       "229         403       18. Tufi   \n",
       "230         411  19. Petriccio   \n",
       "\n",
       "                                                name  \\\n",
       "0                             Pizzeria Alle Scalette   \n",
       "1                           Piazza Giacomo Matteotti   \n",
       "2                           Basilica di San Domenico   \n",
       "3                                 Caffè La Piazzetta   \n",
       "4                         Consorzio Agrario di Siena   \n",
       "..                                               ...   \n",
       "226                                   BAR Il Barrino   \n",
       "227             BAR dei Mantellini di Melani Fabiola   \n",
       "228  Antica Salumeria Salvini Ciofi Soccol e Zanolli   \n",
       "229                                         Il Tocco   \n",
       "230                                        Bar Cecco   \n",
       "\n",
       "                                 address  \\\n",
       "0                     Viale Curtatone 18   \n",
       "1               Piazza Giacomo Matteotti   \n",
       "2                    Piazza San Domenico   \n",
       "3                       Via Montanini 52   \n",
       "4              Via Pianigiani Giuseppe 9   \n",
       "..                                   ...   \n",
       "226             Str. Massetana Romana, 5   \n",
       "227         Via Piano dei Mantellini, 22   \n",
       "228          Str. Statale 73 Ponente, 46   \n",
       "229                   Via Cassia Sud 122   \n",
       "230  Viale Camillo Benso Conte Di Cavour   \n",
       "\n",
       "                                  category  rating  review count  \n",
       "0                                 Pizzeria     NaN           NaN  \n",
       "1                                    Plaza     NaN           NaN  \n",
       "2                                   Church     NaN           NaN  \n",
       "3            Bar, Café, Italian Restaurant     NaN           NaN  \n",
       "4                            Grocery Store     NaN           NaN  \n",
       "..                                     ...     ...           ...  \n",
       "226                                   Bars     5.0           2.0  \n",
       "227                                   Bars     5.0           1.0  \n",
       "228                                    NaN     3.0           1.0  \n",
       "229                   Pizza, Cafes, Tuscan     4.0           2.0  \n",
       "230  Cafes, Fast Food, Pizza, Coffee & Tea     3.0           3.0  \n",
       "\n",
       "[231 rows x 7 columns]"
      ]
     },
     "execution_count": 49,
     "metadata": {},
     "output_type": "execute_result"
    }
   ],
   "source": [
    "df_foursquare_yelp = pd.read_csv('../data/foursquare_yelp.csv')\n",
    "df_foursquare_yelp"
   ]
  },
  {
   "cell_type": "markdown",
   "metadata": {},
   "source": [
    "Provide a visualization that you used as part of your EDA process. Explain the initial pattern or relationship you discoved through this visualization. "
   ]
  },
  {
   "cell_type": "code",
   "execution_count": 50,
   "metadata": {},
   "outputs": [
    {
     "data": {
      "text/plain": [
       "Index(['Unnamed: 0_x', 'station name', 'name', 'address', 'category', 'rating',\n",
       "       'review count', 'Unnamed: 0_y', 'empty slots', 'available bikes',\n",
       "       'latitude', 'longitude'],\n",
       "      dtype='object')"
      ]
     },
     "execution_count": 50,
     "metadata": {},
     "output_type": "execute_result"
    }
   ],
   "source": [
    "df_merge = pd.merge(df_foursquare_yelp, df_city_bikes, on='station name')\n",
    "df_merge.columns\n"
   ]
  },
  {
   "cell_type": "code",
   "execution_count": 51,
   "metadata": {},
   "outputs": [],
   "source": [
    "# remove the unused columns\n",
    "df_merge = df_merge.drop('Unnamed: 0_x', axis=1)"
   ]
  },
  {
   "cell_type": "code",
   "execution_count": 52,
   "metadata": {},
   "outputs": [],
   "source": [
    "df_merge = df_merge.drop('Unnamed: 0_y', axis=1)"
   ]
  },
  {
   "cell_type": "code",
   "execution_count": 53,
   "metadata": {},
   "outputs": [
    {
     "data": {
      "text/plain": [
       "(231, 10)"
      ]
     },
     "execution_count": 53,
     "metadata": {},
     "output_type": "execute_result"
    }
   ],
   "source": [
    "df_merge.shape"
   ]
  },
  {
   "cell_type": "markdown",
   "metadata": {},
   "source": [
    "Find out more about the data using descriptive statistics. Descriptive statistics gives a way of giving a brief overview of the dataset we are dealing with, including some measures and features of the sample\n",
    "Consider grouping data (basic grouping with group by)\n",
    "Consider plotting data columns to find out how the data in the columns are distributed\n",
    "Consider creating scatter plots to explore the relationships between two numerical columns\n",
    "Conduct a hypothesis test against a hypothesis based on your understanding or observation of the data\n",
    "Consider exploring correlations among different variables (different columns)"
   ]
  },
  {
   "cell_type": "code",
   "execution_count": 54,
   "metadata": {},
   "outputs": [
    {
     "data": {
      "text/html": [
       "<div>\n",
       "<style scoped>\n",
       "    .dataframe tbody tr th:only-of-type {\n",
       "        vertical-align: middle;\n",
       "    }\n",
       "\n",
       "    .dataframe tbody tr th {\n",
       "        vertical-align: top;\n",
       "    }\n",
       "\n",
       "    .dataframe thead th {\n",
       "        text-align: right;\n",
       "    }\n",
       "</style>\n",
       "<table border=\"1\" class=\"dataframe\">\n",
       "  <thead>\n",
       "    <tr style=\"text-align: right;\">\n",
       "      <th></th>\n",
       "      <th>rating</th>\n",
       "      <th>review count</th>\n",
       "      <th>empty slots</th>\n",
       "      <th>available bikes</th>\n",
       "      <th>latitude</th>\n",
       "      <th>longitude</th>\n",
       "    </tr>\n",
       "  </thead>\n",
       "  <tbody>\n",
       "    <tr>\n",
       "      <th>count</th>\n",
       "      <td>60.000000</td>\n",
       "      <td>60.000000</td>\n",
       "      <td>231.000000</td>\n",
       "      <td>231.000000</td>\n",
       "      <td>231.000000</td>\n",
       "      <td>231.000000</td>\n",
       "    </tr>\n",
       "    <tr>\n",
       "      <th>mean</th>\n",
       "      <td>4.183333</td>\n",
       "      <td>11.966667</td>\n",
       "      <td>8.917749</td>\n",
       "      <td>1.393939</td>\n",
       "      <td>43.326121</td>\n",
       "      <td>11.325023</td>\n",
       "    </tr>\n",
       "    <tr>\n",
       "      <th>std</th>\n",
       "      <td>0.892372</td>\n",
       "      <td>13.643110</td>\n",
       "      <td>3.784084</td>\n",
       "      <td>2.113262</td>\n",
       "      <td>0.012970</td>\n",
       "      <td>0.012331</td>\n",
       "    </tr>\n",
       "    <tr>\n",
       "      <th>min</th>\n",
       "      <td>1.000000</td>\n",
       "      <td>1.000000</td>\n",
       "      <td>2.000000</td>\n",
       "      <td>0.000000</td>\n",
       "      <td>43.296856</td>\n",
       "      <td>11.300975</td>\n",
       "    </tr>\n",
       "    <tr>\n",
       "      <th>25%</th>\n",
       "      <td>4.000000</td>\n",
       "      <td>1.750000</td>\n",
       "      <td>6.000000</td>\n",
       "      <td>0.000000</td>\n",
       "      <td>43.316863</td>\n",
       "      <td>11.321913</td>\n",
       "    </tr>\n",
       "    <tr>\n",
       "      <th>50%</th>\n",
       "      <td>4.500000</td>\n",
       "      <td>6.000000</td>\n",
       "      <td>9.000000</td>\n",
       "      <td>0.000000</td>\n",
       "      <td>43.323781</td>\n",
       "      <td>11.326733</td>\n",
       "    </tr>\n",
       "    <tr>\n",
       "      <th>75%</th>\n",
       "      <td>5.000000</td>\n",
       "      <td>17.250000</td>\n",
       "      <td>11.000000</td>\n",
       "      <td>2.000000</td>\n",
       "      <td>43.336999</td>\n",
       "      <td>11.332998</td>\n",
       "    </tr>\n",
       "    <tr>\n",
       "      <th>max</th>\n",
       "      <td>5.000000</td>\n",
       "      <td>62.000000</td>\n",
       "      <td>16.000000</td>\n",
       "      <td>8.000000</td>\n",
       "      <td>43.347800</td>\n",
       "      <td>11.354256</td>\n",
       "    </tr>\n",
       "  </tbody>\n",
       "</table>\n",
       "</div>"
      ],
      "text/plain": [
       "          rating  review count  empty slots  available bikes    latitude  \\\n",
       "count  60.000000     60.000000   231.000000       231.000000  231.000000   \n",
       "mean    4.183333     11.966667     8.917749         1.393939   43.326121   \n",
       "std     0.892372     13.643110     3.784084         2.113262    0.012970   \n",
       "min     1.000000      1.000000     2.000000         0.000000   43.296856   \n",
       "25%     4.000000      1.750000     6.000000         0.000000   43.316863   \n",
       "50%     4.500000      6.000000     9.000000         0.000000   43.323781   \n",
       "75%     5.000000     17.250000    11.000000         2.000000   43.336999   \n",
       "max     5.000000     62.000000    16.000000         8.000000   43.347800   \n",
       "\n",
       "        longitude  \n",
       "count  231.000000  \n",
       "mean    11.325023  \n",
       "std      0.012331  \n",
       "min     11.300975  \n",
       "25%     11.321913  \n",
       "50%     11.326733  \n",
       "75%     11.332998  \n",
       "max     11.354256  "
      ]
     },
     "execution_count": 54,
     "metadata": {},
     "output_type": "execute_result"
    }
   ],
   "source": [
    "# Find out more about the data using descriptive statistics.\n",
    "df_merge.describe()"
   ]
  },
  {
   "cell_type": "markdown",
   "metadata": {},
   "source": [
    "Note:\n",
    "- The overall rating is quite good > 4.0\n",
    "- The number of free bikes at each station is low ~ 1.3\n",
    "  "
   ]
  },
  {
   "cell_type": "code",
   "execution_count": 55,
   "metadata": {},
   "outputs": [
    {
     "data": {
      "text/plain": [
       "<Axes: xlabel='rating', ylabel='Count'>"
      ]
     },
     "execution_count": 55,
     "metadata": {},
     "output_type": "execute_result"
    },
    {
     "data": {
      "image/png": "[encoded data removed]",
      "text/plain": [
       "<Figure size 640x480 with 1 Axes>"
      ]
     },
     "metadata": {},
     "output_type": "display_data"
    }
   ],
   "source": [
    "# histogram\n",
    "sns.histplot(df_merge['rating'])"
   ]
  },
  {
   "cell_type": "code",
   "execution_count": 56,
   "metadata": {},
   "outputs": [
    {
     "data": {
      "text/plain": [
       "['address',\n",
       " 'available bikes',\n",
       " 'category',\n",
       " 'empty slots',\n",
       " 'latitude',\n",
       " 'longitude',\n",
       " 'name',\n",
       " 'rating',\n",
       " 'review count',\n",
       " 'station name']"
      ]
     },
     "execution_count": 56,
     "metadata": {},
     "output_type": "execute_result"
    }
   ],
   "source": [
    "sorted(list(df_merge.columns))"
   ]
  },
  {
   "cell_type": "code",
   "execution_count": 57,
   "metadata": {},
   "outputs": [
    {
     "data": {
      "text/plain": [
       "(231, 10)"
      ]
     },
     "execution_count": 57,
     "metadata": {},
     "output_type": "execute_result"
    }
   ],
   "source": [
    "df_merge.shape"
   ]
  },
  {
   "cell_type": "code",
   "execution_count": 58,
   "metadata": {},
   "outputs": [
    {
     "name": "stderr",
     "output_type": "stream",
     "text": [
      "C:\\Users\\thong.lam\\AppData\\Local\\Temp\\ipykernel_9480\\1275029778.py:2: FutureWarning: The default value of numeric_only in DataFrame.corr is deprecated. In a future version, it will default to False. Select only valid columns or specify the value of numeric_only to silence this warning.\n",
      "  sns.heatmap(df_merge.corr(), annot=True, cmap=\"tab20c\")\n"
     ]
    },
    {
     "data": {
      "text/plain": [
       "<Axes: >"
      ]
     },
     "execution_count": 58,
     "metadata": {},
     "output_type": "execute_result"
    },
    {
     "data": {
      "image/png": "[encoded data removed]",
      "text/plain": [
       "<Figure size 2000x1000 with 2 Axes>"
      ]
     },
     "metadata": {},
     "output_type": "display_data"
    }
   ],
   "source": [
    "plt.figure(figsize=(20,10))\n",
    "sns.heatmap(df_merge.corr(), annot=True, cmap=\"tab20c\")"
   ]
  },
  {
   "cell_type": "markdown",
   "metadata": {},
   "source": [
    "# Database"
   ]
  },
  {
   "cell_type": "markdown",
   "metadata": {},
   "source": [
    "Put all your results in an SQLite3 database (remember, SQLite stores its databases as files in your local machine - make sure to create your database in your project's data/ directory!)"
   ]
  },
  {
   "cell_type": "code",
   "execution_count": 59,
   "metadata": {},
   "outputs": [],
   "source": [
    "import sqlite3\n",
    "from sqlite3 import Error\n",
    "\n",
    "def create_connection(path):\n",
    "    connection = None\n",
    "    try:\n",
    "        connection = sqlite3.connect(path)\n",
    "        print(\"Connection to SQLite DB successful\")\n",
    "    except Error as e:\n",
    "        print(f\"The error '{e}' occurred\")\n",
    "\n",
    "    return connection"
   ]
  },
  {
   "cell_type": "markdown",
   "metadata": {},
   "source": [
    "Look at the data before and after the join to validate your data."
   ]
  },
  {
   "cell_type": "code",
   "execution_count": 60,
   "metadata": {},
   "outputs": [
    {
     "name": "stdout",
     "output_type": "stream",
     "text": [
      "Connection to SQLite DB successful\n"
     ]
    }
   ],
   "source": [
    "connection = create_connection(\"sm_app.sqlite\")"
   ]
  },
  {
   "cell_type": "code",
   "execution_count": 61,
   "metadata": {},
   "outputs": [],
   "source": [
    "def execute_query(connection, query):\n",
    "    cursor = connection.cursor()\n",
    "    try:\n",
    "        cursor.execute(query)\n",
    "        connection.commit()\n",
    "        print(\"Query executed successfully\")\n",
    "    except Error as e:\n",
    "        print(f\"The error '{e}' occurred\")"
   ]
  },
  {
   "cell_type": "code",
   "execution_count": 62,
   "metadata": {},
   "outputs": [
    {
     "name": "stdout",
     "output_type": "stream",
     "text": [
      "<class 'pandas.core.frame.DataFrame'>\n",
      "Int64Index: 231 entries, 0 to 230\n",
      "Data columns (total 10 columns):\n",
      " #   Column           Non-Null Count  Dtype  \n",
      "---  ------           --------------  -----  \n",
      " 0   station name     231 non-null    object \n",
      " 1   name             231 non-null    object \n",
      " 2   address          231 non-null    object \n",
      " 3   category         211 non-null    object \n",
      " 4   rating           60 non-null     float64\n",
      " 5   review count     60 non-null     float64\n",
      " 6   empty slots      231 non-null    int64  \n",
      " 7   available bikes  231 non-null    int64  \n",
      " 8   latitude         231 non-null    float64\n",
      " 9   longitude        231 non-null    float64\n",
      "dtypes: float64(4), int64(2), object(4)\n",
      "memory usage: 19.9+ KB\n"
     ]
    }
   ],
   "source": [
    "df_merge.info()"
   ]
  },
  {
   "cell_type": "code",
   "execution_count": 92,
   "metadata": {},
   "outputs": [],
   "source": [
    "create_pois_table = \"\"\"\n",
    "CREATE TABLE IF NOT EXISTS pois (\n",
    "  \"station name\" TEXT NOT NULL,\n",
    "  name TEXT PRIMARY KEY,\n",
    "  address TEXT,\n",
    "  category TEXT,\n",
    "  rating FLOAT,\n",
    "  \"review count\" FLOAT,\n",
    "  \"empty slots\" INTEGER,\n",
    "  \"available bikes\" INTEGER,\n",
    "  latitude FLOAT,\n",
    "  longitude FLOAT\n",
    ");\n",
    "\"\"\""
   ]
  },
  {
   "cell_type": "code",
   "execution_count": 93,
   "metadata": {},
   "outputs": [],
   "source": [
    "def execute_read_query(connection, query):\n",
    "    cursor = connection.cursor()\n",
    "    result = None\n",
    "    try:\n",
    "        cursor.execute(query)\n",
    "        result = cursor.fetchall()\n",
    "        return result\n",
    "    except Error as e:\n",
    "        print(f\"The error '{e}' occurred\")"
   ]
  },
  {
   "cell_type": "code",
   "execution_count": 94,
   "metadata": {},
   "outputs": [
    {
     "name": "stdout",
     "output_type": "stream",
     "text": [
      "Query executed successfully\n"
     ]
    }
   ],
   "source": [
    "execute_query(connection, create_pois_table)"
   ]
  },
  {
   "cell_type": "code",
   "execution_count": 95,
   "metadata": {},
   "outputs": [
    {
     "data": {
      "text/plain": [
       "231"
      ]
     },
     "execution_count": 95,
     "metadata": {},
     "output_type": "execute_result"
    }
   ],
   "source": [
    "df_merge.to_sql('pois', con=connection, if_exists='replace')"
   ]
  },
  {
   "cell_type": "code",
   "execution_count": 76,
   "metadata": {},
   "outputs": [],
   "source": [
    "select_pois = \"SELECT * from pois\"\n",
    "pois = execute_read_query(connection, select_pois)\n",
    "\n",
    "for poi in pois:\n",
    "    print(poi)"
   ]
  }
 ],
 "metadata": {
  "kernelspec": {
   "display_name": "Python 3",
   "language": "python",
   "name": "python3"
  },
  "language_info": {
   "codemirror_mode": {
    "name": "ipython",
    "version": 3
   },
   "file_extension": ".py",
   "mimetype": "text/x-python",
   "name": "python",
   "nbconvert_exporter": "python",
   "pygments_lexer": "ipython3",
   "version": "3.11.3"
  }
 },
 "nbformat": 4,
 "nbformat_minor": 4
}
